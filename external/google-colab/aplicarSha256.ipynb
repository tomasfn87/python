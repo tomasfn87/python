{
  "nbformat": 4,
  "nbformat_minor": 0,
  "metadata": {
    "colab": {
      "provenance": [],
      "collapsed_sections": [],
      "include_colab_link": true
    },
    "kernelspec": {
      "name": "python3",
      "display_name": "Python 3"
    },
    "language_info": {
      "name": "python"
    }
  },
  "cells": [
    {
      "cell_type": "markdown",
      "metadata": {
        "id": "view-in-github",
        "colab_type": "text"
      },
      "source": [
        "<a href=\"https://colab.research.google.com/github/tomasfn87/python/blob/main/external/google-colab/aplicarSha256.ipynb\" target=\"_parent\"><img src=\"https://colab.research.google.com/assets/colab-badge.svg\" alt=\"Open In Colab\"/></a>"
      ]
    },
    {
      "cell_type": "code",
      "execution_count": null,
      "metadata": {
        "id": "yV1fInIg9q61"
      },
      "outputs": [],
      "source": [
        "# Importar autenticação e planilhas\n",
        "\n",
        "from google.colab import auth\n",
        "import gspread\n",
        "from google.auth import default\n",
        "# autenticating to google\n",
        "auth.authenticate_user()\n",
        "creds, _ = default()\n",
        "gc = gspread.authorize(creds)"
      ]
    },
    {
      "cell_type": "code",
      "source": [
        "# Importar pandas, abrir a planilha e gerar um DataFrame\n",
        "\n",
        "import pandas as pd\n",
        "\n",
        "# defining my worksheet\n",
        "worksheet = gc.open('crm_data_dados_até_20220921_aplicacao_de_hash').sheet1\n",
        "# get_all_values gives a list of rows\n",
        "rows = worksheet.get_all_values()\n",
        "# Convert to a DataFrame \n",
        "df = pd.DataFrame(rows)"
      ],
      "metadata": {
        "id": "Grs2qawD96LK"
      },
      "execution_count": null,
      "outputs": []
    },
    {
      "cell_type": "code",
      "source": [
        "print(\"worksheet: \", type(worksheet))\n",
        "print(\"     rows: \", type(rows))\n",
        "print(\"dataFrame: \", type(df))"
      ],
      "metadata": {
        "id": "qe31zlwwerqk",
        "colab": {
          "base_uri": "https://localhost:8080/"
        },
        "outputId": "78a83364-31f3-4a67-8685-e3b77cd67eab"
      },
      "execution_count": null,
      "outputs": [
        {
          "output_type": "stream",
          "name": "stdout",
          "text": [
            "worksheet:  <class 'gspread.models.Worksheet'>\n",
            "     rows:  <class 'list'>\n",
            "dataFrame:  <class 'pandas.core.frame.DataFrame'>\n"
          ]
        }
      ]
    },
    {
      "cell_type": "code",
      "source": [
        "# *** RODAR ESSE BLOCO UMA ÚNICA VEZ ***\n",
        "'''IMPORTANTE: O booleano abaixo destina-se a tentar evitar que o \n",
        "usuário rode o bloco abaixo mais de uma vez cada vez que planilha \n",
        "é aberta, caso contrário os dados serão afetados.'''\n",
        "alreadyExecuted = False"
      ],
      "metadata": {
        "id": "gZqGRAK6fV3i"
      },
      "execution_count": null,
      "outputs": []
    },
    {
      "cell_type": "code",
      "source": [
        "# Remover os índices gerados automaticamente pelo pandas\n",
        "\n",
        "# creating columns name\n",
        "if not alreadyExecuted:\n",
        "  df.columns = df.iloc[0]\n",
        "  df = df.iloc[1:]\n",
        "  print(\"CUIDADO: não altere o valor da variável 'alreadyExecuted': os métodos desse bloco podem rodar somente uma vez.\")\n",
        "  alreadyExecuted = True"
      ],
      "metadata": {
        "id": "LjjqpxwbB0IY",
        "colab": {
          "base_uri": "https://localhost:8080/"
        },
        "outputId": "01df6605-a17d-4fd8-e169-c85c7c0e7fc9"
      },
      "execution_count": null,
      "outputs": [
        {
          "output_type": "stream",
          "name": "stdout",
          "text": [
            "CUIDADO: não altere o valor da variável 'alreadyExecuted': os métodos desse bloco podem rodar somente uma vez.\n"
          ]
        }
      ]
    },
    {
      "cell_type": "code",
      "source": [
        "# Rode este bloco para verificar se os dados já estão hasheados pelo tamanho das strings:\n",
        "hashOk = True\n",
        "for item in df[\"contatos.nome\"]:\n",
        "  if len(item) != 64: # sha256 produz uma string alfanumérica de tamanho 64\n",
        "    hashOk = False\n",
        "hashOk and print(\"Os dados estão corretamente hashseados\")\n",
        "hashOk and display(df[\"contatos.nome\"])"
      ],
      "metadata": {
        "id": "n9tPHGkMhB4Z",
        "colab": {
          "base_uri": "https://localhost:8080/",
          "height": 243
        },
        "outputId": "ce195dec-ec83-4d9c-ddfa-8f7b649736a5"
      },
      "execution_count": null,
      "outputs": [
        {
          "output_type": "stream",
          "name": "stdout",
          "text": [
            "Os dados estão corretamente hashseados\n"
          ]
        },
        {
          "output_type": "display_data",
          "data": {
            "text/plain": [
              "1       14857f8ab88166fac597b1557e3fcd800b62111a9a22dd...\n",
              "2       d26e7db3451ca537087e49b9e5054dcb0ff52c2668f32e...\n",
              "3       053d96806752ce6acbed3cfb3b65f87a176d6b3b993c72...\n",
              "4       318a44204207e9a28df22fa74df8ceb9a28a23f11b72d7...\n",
              "5       85bdf90e5468ab8e0de61bebe884c0ac28755b73d910e1...\n",
              "                              ...                        \n",
              "9849    22a7d6f812647c60d5426a6db7e679031043296cf38de1...\n",
              "9850    c0b6c868a93f350a3b705ad0b8d8e953f874e8e19b81a7...\n",
              "9851    1ac409567aa40fa9415965a7e7950b636be0e7773ff136...\n",
              "9852    7c14c2a2804a9d86b4c8c28565d73049cb80155eecdeda...\n",
              "9853    36dc3a45c323ab91fb26bbe818b9803ecd1b1d2afae5d7...\n",
              "Name: contatos.nome, Length: 9853, dtype: object"
            ]
          },
          "metadata": {}
        }
      ]
    },
    {
      "cell_type": "code",
      "source": [
        "# Apicar o hash a todos os itens da coluna 'contatos.nome'\n",
        "\n",
        "import hashlib\n",
        "\n",
        "# O código abaixo está comentado apenas para evitar que seja rodado novamente (o hash seria aplicado em cima do hash)\n",
        "# Rode o bloco acima para verificar\n",
        "'''\n",
        "for row in df.itertuples():\n",
        "   # atualizando valores apenas da coluna 'contatos.nome'\n",
        "    df.at[row.Index, \"contatos.nome\"] = hashlib.sha256(df.at[row.Index, \"contatos.nome\"].encode('utf-8')).hexdigest()\n",
        "'''"
      ],
      "metadata": {
        "id": "D61kSlNvAeUg"
      },
      "execution_count": null,
      "outputs": []
    },
    {
      "cell_type": "code",
      "source": [
        "# Atualizar os valores na planilha\n",
        "\n",
        "worksheet.update([df.columns.values.tolist()] + df.values.tolist())"
      ],
      "metadata": {
        "id": "TvsJ8NzfNHWU"
      },
      "execution_count": null,
      "outputs": []
    }
  ]
}